{
  "nbformat": 4,
  "nbformat_minor": 0,
  "metadata": {
    "colab": {
      "provenance": []
    },
    "kernelspec": {
      "name": "python3",
      "display_name": "Python 3"
    },
    "language_info": {
      "name": "python"
    },
    "gpuClass": "standard",
    "accelerator": "GPU"
  },
  "cells": [
    {
      "cell_type": "markdown",
      "source": [
        "## Nima Samadi\n",
        "## Deep Learning HW3 - P2"
      ],
      "metadata": {
        "id": "MNXQAyc-gqQp"
      }
    },
    {
      "cell_type": "code",
      "source": [
        "import os\n",
        "IS_COLAB_BACKEND = 'COLAB_GPU' in os.environ  # this is always set on Colab, the value is 0 or 1 depending on GPU presence\n",
        "if IS_COLAB_BACKEND:\n",
        "  from google.colab import auth\n",
        "  # Authenticates the Colab machine and also the TPU using your\n",
        "  # credentials so that they can access your private GCS buckets.\n",
        "  auth.authenticate_user()"
      ],
      "metadata": {
        "id": "GUq9HXLTW_PP"
      },
      "execution_count": 1,
      "outputs": []
    },
    {
      "cell_type": "code",
      "source": [
        "import numpy as np\n",
        "import matplotlib.pyplot as plt\n",
        "import tensorflow as tf\n",
        "import cv2\n",
        "import seaborn as sn\n",
        "import datetime\n",
        "from sklearn.metrics import confusion_matrix\n",
        "\n",
        "# Detect hardware\n",
        "try:\n",
        "  tpu_resolver = tf.distribute.cluster_resolver.TPUClusterResolver() # TPU detection\n",
        "except ValueError:\n",
        "  tpu_resolver = None\n",
        "  gpus = tf.config.experimental.list_logical_devices(\"GPU\")\n",
        "\n",
        "# Select appropriate distribution strategy\n",
        "if tpu_resolver:\n",
        "  tf.config.experimental_connect_to_cluster(tpu_resolver)\n",
        "  tf.tpu.experimental.initialize_tpu_system(tpu_resolver)\n",
        "  strategy = tf.distribute.experimental.TPUStrategy(tpu_resolver)\n",
        "  print('Running on TPU ', tpu_resolver.cluster_spec().as_dict()['worker'])\n",
        "elif len(gpus) > 1:\n",
        "  strategy = tf.distribute.MirroredStrategy([gpu.name for gpu in gpus])\n",
        "  print('Running on multiple GPUs ', [gpu.name for gpu in gpus])\n",
        "elif len(gpus) == 1:\n",
        "  strategy = tf.distribute.get_strategy() # default strategy that works on CPU and single GPU\n",
        "  print('Running on single GPU ', gpus[0].name)\n",
        "else:\n",
        "  strategy = tf.distribute.get_strategy() # default strategy that works on CPU and single GPU\n",
        "  print('Running on CPU')\n",
        "  \n",
        "print(\"Number of accelerators: \", strategy.num_replicas_in_sync)"
      ],
      "metadata": {
        "colab": {
          "base_uri": "https://localhost:8080/"
        },
        "id": "yKhjlEFuXAVH",
        "outputId": "4dd1beb0-0076-4463-c9e4-148ccfef3e82"
      },
      "execution_count": 2,
      "outputs": [
        {
          "output_type": "stream",
          "name": "stdout",
          "text": [
            "Running on single GPU  /device:GPU:0\n",
            "Number of accelerators:  1\n"
          ]
        }
      ]
    },
    {
      "cell_type": "code",
      "execution_count": 3,
      "metadata": {
        "colab": {
          "base_uri": "https://localhost:8080/"
        },
        "id": "DKy_-fRETgtD",
        "outputId": "541caa92-542b-4336-85a6-96af22b28f2c"
      },
      "outputs": [
        {
          "output_type": "stream",
          "name": "stdout",
          "text": [
            "Mounted at /content/drive\n"
          ]
        }
      ],
      "source": [
        "from google.colab import drive\n",
        "drive.mount('/content/drive')"
      ]
    },
    {
      "cell_type": "code",
      "source": [
        "%cd /content/drive/MyDrive/deepLearning\n",
        "!ls"
      ],
      "metadata": {
        "colab": {
          "base_uri": "https://localhost:8080/"
        },
        "id": "V_PBE0HxTmt3",
        "outputId": "b5415966-9162-49a3-e1af-64af8b16b52b"
      },
      "execution_count": 4,
      "outputs": [
        {
          "output_type": "stream",
          "name": "stdout",
          "text": [
            "[Errno 2] No such file or directory: '/content/drive/MyDrive/deepLearning'\n",
            "/content\n",
            "drive  sample_data\n"
          ]
        }
      ]
    },
    {
      "cell_type": "markdown",
      "source": [
        "## A)"
      ],
      "metadata": {
        "id": "UGEtdnmxYjOx"
      }
    },
    {
      "cell_type": "markdown",
      "source": [
        "Load dataset:"
      ],
      "metadata": {
        "id": "xcnq5wb5mSO5"
      }
    },
    {
      "cell_type": "code",
      "source": [
        "(x_train, y_train), (x_test, y_test) = tf.keras.datasets.cifar10.load_data()"
      ],
      "metadata": {
        "id": "KsYEHdlUhGEU",
        "colab": {
          "base_uri": "https://localhost:8080/"
        },
        "outputId": "c2838896-c8ad-42d9-f7f2-b577b4dacdc0"
      },
      "execution_count": 5,
      "outputs": [
        {
          "output_type": "stream",
          "name": "stdout",
          "text": [
            "Downloading data from https://www.cs.toronto.edu/~kriz/cifar-10-python.tar.gz\n",
            "170498071/170498071 [==============================] - 13s 0us/step\n"
          ]
        }
      ]
    },
    {
      "cell_type": "markdown",
      "source": [
        "Load pretrained model:"
      ],
      "metadata": {
        "id": "hg_0ReyZmTqZ"
      }
    },
    {
      "cell_type": "code",
      "source": [
        "# Cifar-10 images are (32, 32). ResNet input is (224, 224). \n",
        "# As it's wanted to train on Cifar-10, I change model input size\n",
        "# and keep images' size\n",
        "IMG_SHAPE = (32, 32, 3)\n",
        "resnet50_base = tf.keras.applications.ResNet50(input_shape=IMG_SHAPE,\n",
        "                                               include_top=False,\n",
        "                                               weights='imagenet',\n",
        "                                               pooling='avg')\n",
        "resnet50_base.trainable = False\n",
        "preproc_input = tf.keras.applications.resnet50.preprocess_input\n",
        "# Data augmentation to improve results\n",
        "data_augmentation = tf.keras.Sequential([\n",
        "    tf.keras.layers.RandomFlip('horizontal'),\n",
        "    tf.keras.layers.RandomRotation(0.2)\n",
        "])"
      ],
      "metadata": {
        "id": "rdvBier3jLlb",
        "colab": {
          "base_uri": "https://localhost:8080/"
        },
        "outputId": "462d354b-9b10-42a7-ec4d-62eea279e5e0"
      },
      "execution_count": 6,
      "outputs": [
        {
          "output_type": "stream",
          "name": "stdout",
          "text": [
            "Downloading data from https://storage.googleapis.com/tensorflow/keras-applications/resnet/resnet50_weights_tf_dim_ordering_tf_kernels_notop.h5\n",
            "94765736/94765736 [==============================] - 5s 0us/step\n"
          ]
        }
      ]
    },
    {
      "cell_type": "markdown",
      "source": [
        "Add one Dense layer on top of base model:"
      ],
      "metadata": {
        "id": "NdB5x2RMmRxu"
      }
    },
    {
      "cell_type": "code",
      "source": [
        "inputs = tf.keras.Input(shape=IMG_SHAPE)\n",
        "inputs = data_augmentation(inputs)\n",
        "inputs = tf.cast(inputs, tf.float32)\n",
        "x = preproc_input(inputs)\n",
        "x = resnet50_base(x, training=False)\n",
        "outputs = tf.keras.layers.Dense(10, activation='relu')(x)\n",
        "\n",
        "teacher_model = tf.keras.Model(inputs, outputs)"
      ],
      "metadata": {
        "id": "14MBmEX7mHZ_"
      },
      "execution_count": 12,
      "outputs": []
    },
    {
      "cell_type": "code",
      "source": [
        "teacher_model.summary()"
      ],
      "metadata": {
        "colab": {
          "base_uri": "https://localhost:8080/"
        },
        "id": "n58qyvF5oGuP",
        "outputId": "d9fbc248-a0b9-4341-ccdb-f82c65b09bc0"
      },
      "execution_count": 13,
      "outputs": [
        {
          "output_type": "stream",
          "name": "stdout",
          "text": [
            "Model: \"model_1\"\n",
            "_________________________________________________________________\n",
            " Layer (type)                Output Shape              Param #   \n",
            "=================================================================\n",
            " input_5 (InputLayer)        [(None, 32, 32, 3)]       0         \n",
            "                                                                 \n",
            " tf.__operators__.getitem_1   (None, 32, 32, 3)        0         \n",
            " (SlicingOpLambda)                                               \n",
            "                                                                 \n",
            " tf.nn.bias_add_1 (TFOpLambd  (None, 32, 32, 3)        0         \n",
            " a)                                                              \n",
            "                                                                 \n",
            " resnet50 (Functional)       (None, 2048)              23587712  \n",
            "                                                                 \n",
            " dense_1 (Dense)             (None, 10)                20490     \n",
            "                                                                 \n",
            "=================================================================\n",
            "Total params: 23,608,202\n",
            "Trainable params: 20,490\n",
            "Non-trainable params: 23,587,712\n",
            "_________________________________________________________________\n"
          ]
        }
      ]
    },
    {
      "cell_type": "markdown",
      "source": [
        "Train model:"
      ],
      "metadata": {
        "id": "q4CXp-jWITSz"
      }
    },
    {
      "cell_type": "code",
      "source": [
        "lr = 1e-4\n",
        "teacher_model.compile(optimizer=tf.keras.optimizers.Adam(learning_rate=lr),\n",
        "                      loss=tf.keras.losses.SparseCategoricalCrossentropy(from_logits=True),\n",
        "                      metrics=['accuracy'])"
      ],
      "metadata": {
        "id": "37P4YTcRpNPc"
      },
      "execution_count": 15,
      "outputs": []
    },
    {
      "cell_type": "code",
      "source": [
        "history = teacher_model.fit(x_train, y_train, epochs=50, batch_size=256, validation_data=(x_test, y_test))"
      ],
      "metadata": {
        "colab": {
          "base_uri": "https://localhost:8080/"
        },
        "id": "5mGGds7xqk4w",
        "outputId": "a8a98192-e4ac-48f0-b4d4-cfb3079d113b"
      },
      "execution_count": 16,
      "outputs": [
        {
          "output_type": "stream",
          "name": "stdout",
          "text": [
            "Epoch 1/50\n",
            "196/196 [==============================] - 10s 39ms/step - loss: 2.3527 - accuracy: 0.2332 - val_loss: 2.0083 - val_accuracy: 0.3305\n",
            "Epoch 2/50\n",
            "196/196 [==============================] - 7s 34ms/step - loss: 1.8381 - accuracy: 0.3981 - val_loss: 1.7182 - val_accuracy: 0.4507\n",
            "Epoch 3/50\n",
            "196/196 [==============================] - 7s 34ms/step - loss: 1.6393 - accuracy: 0.4787 - val_loss: 1.5907 - val_accuracy: 0.4980\n",
            "Epoch 4/50\n",
            "196/196 [==============================] - 7s 34ms/step - loss: 1.5057 - accuracy: 0.5313 - val_loss: 1.4743 - val_accuracy: 0.5443\n",
            "Epoch 5/50\n",
            "196/196 [==============================] - 7s 35ms/step - loss: 1.3896 - accuracy: 0.5700 - val_loss: 1.4025 - val_accuracy: 0.5707\n",
            "Epoch 6/50\n",
            "196/196 [==============================] - 7s 35ms/step - loss: 1.3064 - accuracy: 0.5937 - val_loss: 1.3447 - val_accuracy: 0.5884\n",
            "Epoch 7/50\n",
            "196/196 [==============================] - 7s 35ms/step - loss: 1.2415 - accuracy: 0.6124 - val_loss: 1.3019 - val_accuracy: 0.5966\n",
            "Epoch 8/50\n",
            "196/196 [==============================] - 7s 35ms/step - loss: 1.1884 - accuracy: 0.6252 - val_loss: 1.2675 - val_accuracy: 0.6038\n",
            "Epoch 9/50\n",
            "196/196 [==============================] - 7s 34ms/step - loss: 1.1459 - accuracy: 0.6367 - val_loss: 1.2358 - val_accuracy: 0.6112\n",
            "Epoch 10/50\n",
            "196/196 [==============================] - 7s 36ms/step - loss: 1.1100 - accuracy: 0.6454 - val_loss: 1.2108 - val_accuracy: 0.6193\n",
            "Epoch 11/50\n",
            "196/196 [==============================] - 7s 34ms/step - loss: 1.0772 - accuracy: 0.6537 - val_loss: 1.1959 - val_accuracy: 0.6258\n",
            "Epoch 12/50\n",
            "196/196 [==============================] - 7s 34ms/step - loss: 1.0493 - accuracy: 0.6617 - val_loss: 1.1763 - val_accuracy: 0.6284\n",
            "Epoch 13/50\n",
            "196/196 [==============================] - 7s 34ms/step - loss: 1.0247 - accuracy: 0.6677 - val_loss: 1.1600 - val_accuracy: 0.6336\n",
            "Epoch 14/50\n",
            "196/196 [==============================] - 7s 34ms/step - loss: 1.0022 - accuracy: 0.6726 - val_loss: 1.1482 - val_accuracy: 0.6327\n",
            "Epoch 15/50\n",
            "196/196 [==============================] - 7s 34ms/step - loss: 0.9812 - accuracy: 0.6799 - val_loss: 1.1291 - val_accuracy: 0.6393\n",
            "Epoch 16/50\n",
            "196/196 [==============================] - 7s 35ms/step - loss: 0.9627 - accuracy: 0.6835 - val_loss: 1.1198 - val_accuracy: 0.6416\n",
            "Epoch 17/50\n",
            "196/196 [==============================] - 7s 36ms/step - loss: 0.9442 - accuracy: 0.6891 - val_loss: 1.1087 - val_accuracy: 0.6435\n",
            "Epoch 18/50\n",
            "196/196 [==============================] - 7s 34ms/step - loss: 0.9290 - accuracy: 0.6930 - val_loss: 1.1019 - val_accuracy: 0.6445\n",
            "Epoch 19/50\n",
            "196/196 [==============================] - 7s 34ms/step - loss: 0.9146 - accuracy: 0.6967 - val_loss: 1.0934 - val_accuracy: 0.6479\n",
            "Epoch 20/50\n",
            "196/196 [==============================] - 7s 34ms/step - loss: 0.9010 - accuracy: 0.7011 - val_loss: 1.0816 - val_accuracy: 0.6478\n",
            "Epoch 21/50\n",
            "196/196 [==============================] - 7s 34ms/step - loss: 0.8880 - accuracy: 0.7057 - val_loss: 1.0767 - val_accuracy: 0.6495\n",
            "Epoch 22/50\n",
            "196/196 [==============================] - 7s 34ms/step - loss: 0.8771 - accuracy: 0.7076 - val_loss: 1.0703 - val_accuracy: 0.6504\n",
            "Epoch 23/50\n",
            "196/196 [==============================] - 7s 36ms/step - loss: 0.8666 - accuracy: 0.7104 - val_loss: 1.0630 - val_accuracy: 0.6536\n",
            "Epoch 24/50\n",
            "196/196 [==============================] - 7s 34ms/step - loss: 0.8563 - accuracy: 0.7147 - val_loss: 1.0584 - val_accuracy: 0.6530\n",
            "Epoch 25/50\n",
            "196/196 [==============================] - 7s 35ms/step - loss: 0.8472 - accuracy: 0.7168 - val_loss: 1.0521 - val_accuracy: 0.6556\n",
            "Epoch 26/50\n",
            "196/196 [==============================] - 7s 34ms/step - loss: 0.8379 - accuracy: 0.7204 - val_loss: 1.0475 - val_accuracy: 0.6570\n",
            "Epoch 27/50\n",
            "196/196 [==============================] - 7s 35ms/step - loss: 0.8296 - accuracy: 0.7223 - val_loss: 1.0454 - val_accuracy: 0.6546\n",
            "Epoch 28/50\n",
            "196/196 [==============================] - 7s 34ms/step - loss: 0.8220 - accuracy: 0.7246 - val_loss: 1.0408 - val_accuracy: 0.6575\n",
            "Epoch 29/50\n",
            "196/196 [==============================] - 7s 34ms/step - loss: 0.8150 - accuracy: 0.7272 - val_loss: 1.0360 - val_accuracy: 0.6634\n",
            "Epoch 30/50\n",
            "196/196 [==============================] - 7s 34ms/step - loss: 0.8089 - accuracy: 0.7293 - val_loss: 1.0319 - val_accuracy: 0.6601\n",
            "Epoch 31/50\n",
            "196/196 [==============================] - 7s 35ms/step - loss: 0.8019 - accuracy: 0.7309 - val_loss: 1.0321 - val_accuracy: 0.6624\n",
            "Epoch 32/50\n",
            "196/196 [==============================] - 7s 35ms/step - loss: 0.7966 - accuracy: 0.7320 - val_loss: 1.0282 - val_accuracy: 0.6622\n",
            "Epoch 33/50\n",
            "196/196 [==============================] - 7s 35ms/step - loss: 0.7905 - accuracy: 0.7347 - val_loss: 1.0258 - val_accuracy: 0.6625\n",
            "Epoch 34/50\n",
            "196/196 [==============================] - 7s 35ms/step - loss: 0.7851 - accuracy: 0.7359 - val_loss: 1.0256 - val_accuracy: 0.6635\n",
            "Epoch 35/50\n",
            "196/196 [==============================] - 7s 35ms/step - loss: 0.7798 - accuracy: 0.7386 - val_loss: 1.0221 - val_accuracy: 0.6645\n",
            "Epoch 36/50\n",
            "196/196 [==============================] - 7s 35ms/step - loss: 0.7749 - accuracy: 0.7398 - val_loss: 1.0208 - val_accuracy: 0.6641\n",
            "Epoch 37/50\n",
            "196/196 [==============================] - 7s 35ms/step - loss: 0.7702 - accuracy: 0.7408 - val_loss: 1.0177 - val_accuracy: 0.6654\n",
            "Epoch 38/50\n",
            "196/196 [==============================] - 7s 34ms/step - loss: 0.7657 - accuracy: 0.7416 - val_loss: 1.0211 - val_accuracy: 0.6623\n",
            "Epoch 39/50\n",
            "196/196 [==============================] - 7s 35ms/step - loss: 0.7614 - accuracy: 0.7425 - val_loss: 1.0164 - val_accuracy: 0.6681\n",
            "Epoch 40/50\n",
            "196/196 [==============================] - 7s 35ms/step - loss: 0.7573 - accuracy: 0.7442 - val_loss: 1.0168 - val_accuracy: 0.6639\n",
            "Epoch 41/50\n",
            "196/196 [==============================] - 7s 35ms/step - loss: 0.7537 - accuracy: 0.7447 - val_loss: 1.0167 - val_accuracy: 0.6635\n",
            "Epoch 42/50\n",
            "196/196 [==============================] - 7s 35ms/step - loss: 0.7501 - accuracy: 0.7464 - val_loss: 1.0157 - val_accuracy: 0.6645\n",
            "Epoch 43/50\n",
            "196/196 [==============================] - 7s 35ms/step - loss: 0.7463 - accuracy: 0.7474 - val_loss: 1.0128 - val_accuracy: 0.6668\n",
            "Epoch 44/50\n",
            "196/196 [==============================] - 7s 36ms/step - loss: 0.7435 - accuracy: 0.7484 - val_loss: 1.0155 - val_accuracy: 0.6669\n",
            "Epoch 45/50\n",
            "196/196 [==============================] - 7s 35ms/step - loss: 0.7403 - accuracy: 0.7501 - val_loss: 1.0103 - val_accuracy: 0.6666\n",
            "Epoch 46/50\n",
            "196/196 [==============================] - 7s 35ms/step - loss: 0.7364 - accuracy: 0.7508 - val_loss: 1.0133 - val_accuracy: 0.6674\n",
            "Epoch 47/50\n",
            "196/196 [==============================] - 7s 34ms/step - loss: 0.7340 - accuracy: 0.7508 - val_loss: 1.0092 - val_accuracy: 0.6658\n",
            "Epoch 48/50\n",
            "196/196 [==============================] - 7s 35ms/step - loss: 0.7311 - accuracy: 0.7528 - val_loss: 1.0087 - val_accuracy: 0.6662\n",
            "Epoch 49/50\n",
            "196/196 [==============================] - 7s 35ms/step - loss: 0.7281 - accuracy: 0.7531 - val_loss: 1.0091 - val_accuracy: 0.6654\n",
            "Epoch 50/50\n",
            "196/196 [==============================] - 7s 35ms/step - loss: 0.7259 - accuracy: 0.7544 - val_loss: 1.0077 - val_accuracy: 0.6675\n"
          ]
        }
      ]
    },
    {
      "cell_type": "code",
      "source": [
        "res = teacher_model.evaluate(x_test, y_test)"
      ],
      "metadata": {
        "colab": {
          "base_uri": "https://localhost:8080/"
        },
        "id": "XlpvDbFBTdrZ",
        "outputId": "db4b1527-2859-4bbf-b62e-5b94801f7d19"
      },
      "execution_count": 52,
      "outputs": [
        {
          "output_type": "stream",
          "name": "stdout",
          "text": [
            "313/313 [==============================] - 6s 18ms/step - loss: 1.0077 - accuracy: 0.6675\n"
          ]
        }
      ]
    },
    {
      "cell_type": "markdown",
      "source": [
        "## B)"
      ],
      "metadata": {
        "id": "8UqABAff5JgK"
      }
    },
    {
      "cell_type": "code",
      "source": [
        "class Distiller(tf.keras.Model):\n",
        "  def __init__(self, student, teacher):\n",
        "    super().__init__()\n",
        "    self.teacher = teacher\n",
        "    self.student = student\n",
        "  \n",
        "  def compile(self, optimizer, metrics, student_loss_fn, distillation_loss_fn, alpha=0.1, temperature=3):\n",
        "    super().compile(optimizer=optimizer, metrics=metrics)\n",
        "    self.student_loss_fn = student_loss_fn\n",
        "    self.distillation_loss_fn = distillation_loss_fn\n",
        "    self.alpha = alpha\n",
        "    self.temperature = temperature\n",
        "\n",
        "  def train_step(self, data):\n",
        "    x, y = data\n",
        "    teacher_preds = self.teacher(x, training=False)\n",
        "    with tf.GradientTape() as tape:\n",
        "      student_preds = self.student(x, training=True)\n",
        "      student_loss = self.student_loss_fn(y, student_preds)\n",
        "\n",
        "      distillation_loss = (\n",
        "          self.distillation_loss_fn(\n",
        "              tf.nn.softmax(teacher_preds/self.temperature, axis=1),\n",
        "              tf.nn.softmax(student_preds/self.temperature, axis=1)\n",
        "          ) * self.temperature**2\n",
        "      )\n",
        "      loss = self.alpha*student_loss + (1-self.alpha)*distillation_loss\n",
        "\n",
        "    trainable_vars = self.student.trainable_variables\n",
        "    grads = tape.gradient(loss, trainable_vars)\n",
        "\n",
        "    self.optimizer.apply_gradients(zip(grads, trainable_vars))\n",
        "    self.compiled_metrics.update_state(y, student_preds)\n",
        "\n",
        "    results = {m.name: m.result() for m in self.metrics}\n",
        "    results.update(\n",
        "        {\"student_loss\": student_loss, \"distillation_loss\": distillation_loss}\n",
        "    )\n",
        "    return results\n",
        "\n",
        "  def test_step(self, data):\n",
        "    x, y = data\n",
        "\n",
        "    y_preds = self.student(x, training=False)\n",
        "    student_loss = self.student_loss_fn(y, y_preds)\n",
        "    self.compiled_metrics.update_state(y, y_preds)\n",
        "\n",
        "    results = {m.name: m.result() for m in self.metrics}\n",
        "    results.update({\"student_loss\": student_loss})\n",
        "\n",
        "    return results"
      ],
      "metadata": {
        "id": "Nst-xGHjq_op"
      },
      "execution_count": 17,
      "outputs": []
    },
    {
      "cell_type": "markdown",
      "source": [
        "To download Resnet18 model, I use `image-classifiers` package"
      ],
      "metadata": {
        "id": "rrhOeIDJAb4s"
      }
    },
    {
      "cell_type": "code",
      "source": [
        "!pip install image-classifiers"
      ],
      "metadata": {
        "colab": {
          "base_uri": "https://localhost:8080/"
        },
        "id": "-YtrwarHAuyB",
        "outputId": "8d8c7ad8-0985-43b2-9648-acfc85f20615"
      },
      "execution_count": 18,
      "outputs": [
        {
          "output_type": "stream",
          "name": "stdout",
          "text": [
            "Looking in indexes: https://pypi.org/simple, https://us-python.pkg.dev/colab-wheels/public/simple/\n",
            "Collecting image-classifiers\n",
            "  Downloading image_classifiers-1.0.0-py3-none-any.whl (19 kB)\n",
            "Collecting keras-applications<=1.0.8,>=1.0.7\n",
            "  Downloading Keras_Applications-1.0.8-py3-none-any.whl (50 kB)\n",
            "\u001b[2K     \u001b[90m━━━━━━━━━━━━━━━━━━━━━━━━━━━━━━━━━━━━━━━━\u001b[0m \u001b[32m50.7/50.7 KB\u001b[0m \u001b[31m6.9 MB/s\u001b[0m eta \u001b[36m0:00:00\u001b[0m\n",
            "\u001b[?25hRequirement already satisfied: h5py in /usr/local/lib/python3.8/dist-packages (from keras-applications<=1.0.8,>=1.0.7->image-classifiers) (3.1.0)\n",
            "Requirement already satisfied: numpy>=1.9.1 in /usr/local/lib/python3.8/dist-packages (from keras-applications<=1.0.8,>=1.0.7->image-classifiers) (1.21.6)\n",
            "Installing collected packages: keras-applications, image-classifiers\n",
            "Successfully installed image-classifiers-1.0.0 keras-applications-1.0.8\n"
          ]
        }
      ]
    },
    {
      "cell_type": "code",
      "source": [
        "from classification_models.tfkeras import Classifiers"
      ],
      "metadata": {
        "id": "0wLw8cIwAhtX"
      },
      "execution_count": 19,
      "outputs": []
    },
    {
      "cell_type": "code",
      "source": [
        "resnet18, pre_input_resnet18 = Classifiers.get('resnet18')\n",
        "resnet18_base = resnet18(IMG_SHAPE, weights=None, include_top=False)\n",
        "# Note that I used None weights which means I only used the structure of resnet18"
      ],
      "metadata": {
        "id": "ctKUEC8ODnYm"
      },
      "execution_count": 20,
      "outputs": []
    },
    {
      "cell_type": "code",
      "source": [
        "inputs = tf.keras.Input(shape=IMG_SHAPE)\n",
        "inputs = tf.cast(inputs, tf.float32)\n",
        "x = pre_input_resnet18(inputs)\n",
        "x = resnet18_base(x)\n",
        "x = tf.keras.layers.GlobalAveragePooling2D()(x)\n",
        "outputs = tf.keras.layers.Dense(10, activation='relu')(x)\n",
        "student_model = tf.keras.Model(inputs, outputs)"
      ],
      "metadata": {
        "id": "DwNXkwrgI1rW"
      },
      "execution_count": 48,
      "outputs": []
    },
    {
      "cell_type": "code",
      "source": [
        "student_model.summary()"
      ],
      "metadata": {
        "colab": {
          "base_uri": "https://localhost:8080/"
        },
        "id": "_R2JKRdfJeUg",
        "outputId": "6cabeae2-8489-4069-e15c-85d0da41f712"
      },
      "execution_count": 49,
      "outputs": [
        {
          "output_type": "stream",
          "name": "stdout",
          "text": [
            "Model: \"model_12\"\n",
            "_________________________________________________________________\n",
            " Layer (type)                Output Shape              Param #   \n",
            "=================================================================\n",
            " input_25 (InputLayer)       [(None, 32, 32, 3)]       0         \n",
            "                                                                 \n",
            " model_2 (Functional)        (None, 1, 1, 512)         11186889  \n",
            "                                                                 \n",
            " global_average_pooling2d_9   (None, 512)              0         \n",
            " (GlobalAveragePooling2D)                                        \n",
            "                                                                 \n",
            " dense_11 (Dense)            (None, 10)                5130      \n",
            "                                                                 \n",
            "=================================================================\n",
            "Total params: 11,192,019\n",
            "Trainable params: 11,184,077\n",
            "Non-trainable params: 7,942\n",
            "_________________________________________________________________\n"
          ]
        }
      ]
    },
    {
      "cell_type": "code",
      "source": [
        "distiller = Distiller(student=student_model, teacher=teacher_model)\n",
        "distiller.compile(\n",
        "    optimizer=tf.keras.optimizers.Adam(learning_rate=1e-4),\n",
        "    metrics=['accuracy'],\n",
        "    student_loss_fn=tf.keras.losses.SparseCategoricalCrossentropy(from_logits=True),\n",
        "    distillation_loss_fn=tf.keras.losses.CategoricalCrossentropy(from_logits=True),\n",
        "    alpha=0.1,\n",
        "    temperature=1\n",
        ")\n",
        "\n",
        "history = distiller.fit(x_train, y_train, epochs=20, batch_size=64, validation_data=(x_test, y_test))"
      ],
      "metadata": {
        "colab": {
          "base_uri": "https://localhost:8080/"
        },
        "id": "0w6bXYm3-G2H",
        "outputId": "f45b9ed0-2931-40d7-ded4-cf9c07470c4a"
      },
      "execution_count": 50,
      "outputs": [
        {
          "output_type": "stream",
          "name": "stdout",
          "text": [
            "Epoch 1/20\n",
            "782/782 [==============================] - 33s 38ms/step - accuracy: 0.8169 - student_loss: 0.5722 - distillation_loss: 1.8864 - val_accuracy: 0.5649 - val_student_loss: 1.5239\n",
            "Epoch 2/20\n",
            "782/782 [==============================] - 29s 37ms/step - accuracy: 0.8422 - student_loss: 0.4375 - distillation_loss: 1.8425 - val_accuracy: 0.5695 - val_student_loss: 1.6436\n",
            "Epoch 3/20\n",
            "782/782 [==============================] - 29s 37ms/step - accuracy: 0.9084 - student_loss: 0.2688 - distillation_loss: 1.7957 - val_accuracy: 0.6304 - val_student_loss: 1.2489\n",
            "Epoch 4/20\n",
            "782/782 [==============================] - 28s 36ms/step - accuracy: 0.9273 - student_loss: 0.2130 - distillation_loss: 1.7785 - val_accuracy: 0.6282 - val_student_loss: 1.0816\n",
            "Epoch 5/20\n",
            "782/782 [==============================] - 28s 36ms/step - accuracy: 0.9209 - student_loss: 0.2203 - distillation_loss: 1.7754 - val_accuracy: 0.6293 - val_student_loss: 1.1666\n",
            "Epoch 6/20\n",
            "782/782 [==============================] - 29s 37ms/step - accuracy: 0.9186 - student_loss: 0.2214 - distillation_loss: 1.7741 - val_accuracy: 0.6239 - val_student_loss: 0.8928\n",
            "Epoch 7/20\n",
            "782/782 [==============================] - 29s 37ms/step - accuracy: 0.9158 - student_loss: 0.2231 - distillation_loss: 1.7717 - val_accuracy: 0.6213 - val_student_loss: 0.9150\n",
            "Epoch 8/20\n",
            "782/782 [==============================] - 28s 36ms/step - accuracy: 0.9128 - student_loss: 0.2246 - distillation_loss: 1.7714 - val_accuracy: 0.6234 - val_student_loss: 0.6560\n",
            "Epoch 9/20\n",
            "782/782 [==============================] - 28s 36ms/step - accuracy: 0.9116 - student_loss: 0.2190 - distillation_loss: 1.7697 - val_accuracy: 0.6221 - val_student_loss: 1.2583\n",
            "Epoch 10/20\n",
            "782/782 [==============================] - 28s 36ms/step - accuracy: 0.9081 - student_loss: 0.2220 - distillation_loss: 1.7684 - val_accuracy: 0.6301 - val_student_loss: 1.2855\n",
            "Epoch 11/20\n",
            "782/782 [==============================] - 28s 36ms/step - accuracy: 0.9075 - student_loss: 0.2203 - distillation_loss: 1.7679 - val_accuracy: 0.6210 - val_student_loss: 1.5287\n",
            "Epoch 12/20\n",
            "782/782 [==============================] - 29s 37ms/step - accuracy: 0.9048 - student_loss: 0.2235 - distillation_loss: 1.7678 - val_accuracy: 0.6207 - val_student_loss: 1.6798\n",
            "Epoch 13/20\n",
            "782/782 [==============================] - 29s 37ms/step - accuracy: 0.9062 - student_loss: 0.2139 - distillation_loss: 1.7666 - val_accuracy: 0.6238 - val_student_loss: 2.0952\n",
            "Epoch 14/20\n",
            "782/782 [==============================] - 28s 36ms/step - accuracy: 0.9020 - student_loss: 0.2250 - distillation_loss: 1.7669 - val_accuracy: 0.6246 - val_student_loss: 1.3924\n",
            "Epoch 15/20\n",
            "782/782 [==============================] - 28s 36ms/step - accuracy: 0.9009 - student_loss: 0.2226 - distillation_loss: 1.7667 - val_accuracy: 0.6287 - val_student_loss: 1.3887\n",
            "Epoch 16/20\n",
            "782/782 [==============================] - 29s 37ms/step - accuracy: 0.8980 - student_loss: 0.2298 - distillation_loss: 1.7664 - val_accuracy: 0.6347 - val_student_loss: 1.7847\n",
            "Epoch 17/20\n",
            "782/782 [==============================] - 29s 37ms/step - accuracy: 0.8993 - student_loss: 0.2088 - distillation_loss: 1.7643 - val_accuracy: 0.6257 - val_student_loss: 1.0958\n",
            "Epoch 18/20\n",
            "782/782 [==============================] - 29s 37ms/step - accuracy: 0.8967 - student_loss: 0.2132 - distillation_loss: 1.7637 - val_accuracy: 0.6333 - val_student_loss: 1.5076\n",
            "Epoch 19/20\n",
            "782/782 [==============================] - 32s 41ms/step - accuracy: 0.8950 - student_loss: 0.2173 - distillation_loss: 1.7637 - val_accuracy: 0.6164 - val_student_loss: 1.6011\n",
            "Epoch 20/20\n",
            "782/782 [==============================] - 28s 36ms/step - accuracy: 0.8950 - student_loss: 0.2186 - distillation_loss: 1.7641 - val_accuracy: 0.6320 - val_student_loss: 1.9175\n"
          ]
        }
      ]
    },
    {
      "cell_type": "code",
      "source": [
        "res = distiller.evaluate(x_test, y_test)"
      ],
      "metadata": {
        "colab": {
          "base_uri": "https://localhost:8080/"
        },
        "id": "Bb3zNIAfUcc9",
        "outputId": "26af8491-3370-4074-b2ba-df0a83a2859a"
      },
      "execution_count": 54,
      "outputs": [
        {
          "output_type": "stream",
          "name": "stdout",
          "text": [
            "313/313 [==============================] - 2s 7ms/step - accuracy: 0.6320 - student_loss: 2.2720\n"
          ]
        }
      ]
    },
    {
      "cell_type": "markdown",
      "source": [
        "## C) \n",
        "To explain differences fairly, same hyperparameters in part A) and B) are chosen for following parts."
      ],
      "metadata": {
        "id": "Qo3BCLpVE_ta"
      }
    },
    {
      "cell_type": "code",
      "source": [
        "inputs = tf.keras.Input(shape=IMG_SHAPE)\n",
        "inputs = data_augmentation(inputs)\n",
        "inputs = tf.cast(inputs, tf.float32)\n",
        "x = pre_input_resnet18(inputs)\n",
        "x = resnet18_base(x)\n",
        "x = tf.keras.layers.GlobalAveragePooling2D()(x)\n",
        "outputs = tf.keras.layers.Dense(10, activation='relu')(x)\n",
        "scratch_student_model = tf.keras.Model(inputs, outputs)"
      ],
      "metadata": {
        "id": "XALPfz7LHaPS"
      },
      "execution_count": 55,
      "outputs": []
    },
    {
      "cell_type": "code",
      "source": [
        "lr = 1e-4\n",
        "scratch_student_model.compile(optimizer=tf.keras.optimizers.Adam(learning_rate=lr),\n",
        "                              loss=tf.keras.losses.SparseCategoricalCrossentropy(from_logits=True),\n",
        "                              metrics=['accuracy'])"
      ],
      "metadata": {
        "id": "CX7_TM4xHXR9"
      },
      "execution_count": 56,
      "outputs": []
    },
    {
      "cell_type": "code",
      "source": [
        "scratch_student_model.summary()"
      ],
      "metadata": {
        "colab": {
          "base_uri": "https://localhost:8080/"
        },
        "id": "ZGWzN6vXH5Lh",
        "outputId": "ca96a67f-2b58-452a-b239-0b8633814928"
      },
      "execution_count": 57,
      "outputs": [
        {
          "output_type": "stream",
          "name": "stdout",
          "text": [
            "Model: \"model_13\"\n",
            "_________________________________________________________________\n",
            " Layer (type)                Output Shape              Param #   \n",
            "=================================================================\n",
            " input_27 (InputLayer)       [(None, 32, 32, 3)]       0         \n",
            "                                                                 \n",
            " model_2 (Functional)        (None, 1, 1, 512)         11186889  \n",
            "                                                                 \n",
            " global_average_pooling2d_10  (None, 512)              0         \n",
            "  (GlobalAveragePooling2D)                                       \n",
            "                                                                 \n",
            " dense_12 (Dense)            (None, 10)                5130      \n",
            "                                                                 \n",
            "=================================================================\n",
            "Total params: 11,192,019\n",
            "Trainable params: 11,184,077\n",
            "Non-trainable params: 7,942\n",
            "_________________________________________________________________\n"
          ]
        }
      ]
    },
    {
      "cell_type": "code",
      "source": [
        "history = scratch_student_model.fit(x_train, y_train, epochs=20, batch_size=64, validation_data=(x_test, y_test))"
      ],
      "metadata": {
        "colab": {
          "base_uri": "https://localhost:8080/"
        },
        "id": "Z4pOwZzMHlxF",
        "outputId": "9006c563-54dc-4c75-c2b5-df21d32642d6"
      },
      "execution_count": 58,
      "outputs": [
        {
          "output_type": "stream",
          "name": "stdout",
          "text": [
            "Epoch 1/20\n",
            "782/782 [==============================] - 24s 28ms/step - loss: 0.5816 - accuracy: 0.7862 - val_loss: 1.5573 - val_accuracy: 0.5862\n",
            "Epoch 2/20\n",
            "782/782 [==============================] - 19s 25ms/step - loss: 0.3242 - accuracy: 0.8741 - val_loss: 1.9305 - val_accuracy: 0.5870\n",
            "Epoch 3/20\n",
            "782/782 [==============================] - 19s 24ms/step - loss: 0.2992 - accuracy: 0.8807 - val_loss: 1.9448 - val_accuracy: 0.5735\n",
            "Epoch 4/20\n",
            "782/782 [==============================] - 20s 25ms/step - loss: 0.2841 - accuracy: 0.8853 - val_loss: 2.1087 - val_accuracy: 0.5783\n",
            "Epoch 5/20\n",
            "782/782 [==============================] - 19s 25ms/step - loss: 0.2877 - accuracy: 0.8831 - val_loss: 2.2144 - val_accuracy: 0.5794\n",
            "Epoch 6/20\n",
            "782/782 [==============================] - 19s 24ms/step - loss: 0.2785 - accuracy: 0.8868 - val_loss: 2.2247 - val_accuracy: 0.5762\n",
            "Epoch 7/20\n",
            "782/782 [==============================] - 19s 24ms/step - loss: 0.2744 - accuracy: 0.8880 - val_loss: 2.0821 - val_accuracy: 0.5770\n",
            "Epoch 8/20\n",
            "782/782 [==============================] - 19s 24ms/step - loss: 0.2723 - accuracy: 0.8880 - val_loss: 2.1879 - val_accuracy: 0.5828\n",
            "Epoch 9/20\n",
            "782/782 [==============================] - 18s 24ms/step - loss: 0.2754 - accuracy: 0.8873 - val_loss: 2.1561 - val_accuracy: 0.5932\n",
            "Epoch 10/20\n",
            "782/782 [==============================] - 18s 24ms/step - loss: 0.2672 - accuracy: 0.8901 - val_loss: 2.1955 - val_accuracy: 0.5752\n",
            "Epoch 11/20\n",
            "782/782 [==============================] - 19s 24ms/step - loss: 0.2720 - accuracy: 0.8886 - val_loss: 2.0650 - val_accuracy: 0.5838\n",
            "Epoch 12/20\n",
            "782/782 [==============================] - 18s 24ms/step - loss: 0.2658 - accuracy: 0.8893 - val_loss: 2.2467 - val_accuracy: 0.5845\n",
            "Epoch 13/20\n",
            "782/782 [==============================] - 19s 24ms/step - loss: 0.2678 - accuracy: 0.8899 - val_loss: 2.1905 - val_accuracy: 0.5801\n",
            "Epoch 14/20\n",
            "782/782 [==============================] - 19s 24ms/step - loss: 0.2688 - accuracy: 0.8895 - val_loss: 2.1295 - val_accuracy: 0.5919\n",
            "Epoch 15/20\n",
            "782/782 [==============================] - 19s 24ms/step - loss: 0.2642 - accuracy: 0.8902 - val_loss: 2.1351 - val_accuracy: 0.5815\n",
            "Epoch 16/20\n",
            "782/782 [==============================] - 19s 24ms/step - loss: 0.2656 - accuracy: 0.8897 - val_loss: 2.1501 - val_accuracy: 0.5848\n",
            "Epoch 17/20\n",
            "782/782 [==============================] - 19s 24ms/step - loss: 0.2627 - accuracy: 0.8910 - val_loss: 2.2501 - val_accuracy: 0.5778\n",
            "Epoch 18/20\n",
            "782/782 [==============================] - 19s 24ms/step - loss: 0.2608 - accuracy: 0.8914 - val_loss: 2.1598 - val_accuracy: 0.5873\n",
            "Epoch 19/20\n",
            "782/782 [==============================] - 19s 24ms/step - loss: 0.2640 - accuracy: 0.8907 - val_loss: 2.2339 - val_accuracy: 0.5861\n",
            "Epoch 20/20\n",
            "782/782 [==============================] - 19s 24ms/step - loss: 0.2638 - accuracy: 0.8907 - val_loss: 2.0888 - val_accuracy: 0.5866\n"
          ]
        }
      ]
    },
    {
      "cell_type": "code",
      "source": [
        "res = scratch_student_model.evaluate(x_test, y_test)"
      ],
      "metadata": {
        "id": "STFfrxSzHqFW",
        "colab": {
          "base_uri": "https://localhost:8080/"
        },
        "outputId": "cf2cacdd-1a7b-4fb5-c2ec-e0ec91b60b92"
      },
      "execution_count": 59,
      "outputs": [
        {
          "output_type": "stream",
          "name": "stdout",
          "text": [
            "313/313 [==============================] - 2s 7ms/step - loss: 2.0888 - accuracy: 0.5866\n"
          ]
        }
      ]
    },
    {
      "cell_type": "markdown",
      "source": [
        "ResNet18 model that is trained from scratch achieves $58.6\\%$ accuracy on the test set while the same model that was trained with knowledge distillation achieved $63.2\\%$ accuracy on the test set. The main reason is the teacher model in knowledge distillation scenario. In that case, teacher model helps student model to update its paramater such that it minimizes sum of two losses. This will prevent overvitting that appears in training ResNet18 model from scratch and results in better performance on the test set."
      ],
      "metadata": {
        "id": "ymagXRJoddDW"
      }
    },
    {
      "cell_type": "markdown",
      "source": [
        " ## D)\n",
        "In this part first the ResNet50 model is trained from scratch. Then it's used as teacher model in knowledge distillation. Again, ResNet18 model is used as the student model. Note that ResNet50 is trained on ImageNet which consists of 1000 classes. So, FC layer must be removed and replaced."
      ],
      "metadata": {
        "id": "4hSzSotK0jhU"
      }
    },
    {
      "cell_type": "code",
      "source": [
        "resnet50_base_none = tf.keras.applications.ResNet50(input_shape=IMG_SHAPE,\n",
        "                                                    include_top=False,\n",
        "                                                    weights=None,\n",
        "                                                    pooling='avg')"
      ],
      "metadata": {
        "id": "LLr8-hsc0kN8"
      },
      "execution_count": 60,
      "outputs": []
    },
    {
      "cell_type": "code",
      "source": [
        "inputs = tf.keras.Input(shape=IMG_SHAPE)\n",
        "inputs = data_augmentation(inputs)\n",
        "inputs = tf.cast(inputs, tf.float32)\n",
        "x = preproc_input(inputs)\n",
        "x = resnet50_base_none(x, training=True)\n",
        "outputs = tf.keras.layers.Dense(10, activation='relu')(x)\n",
        "\n",
        "resnet50_scratch = tf.keras.Model(inputs, outputs)"
      ],
      "metadata": {
        "id": "LnyMEGbU0x7M"
      },
      "execution_count": 61,
      "outputs": []
    },
    {
      "cell_type": "code",
      "source": [
        "resnet50_scratch.summary()"
      ],
      "metadata": {
        "colab": {
          "base_uri": "https://localhost:8080/"
        },
        "id": "9bH75HMa1d_v",
        "outputId": "f5b027b5-9dee-4fb0-f193-27b9864c3ba0"
      },
      "execution_count": 62,
      "outputs": [
        {
          "output_type": "stream",
          "name": "stdout",
          "text": [
            "Model: \"model_14\"\n",
            "_________________________________________________________________\n",
            " Layer (type)                Output Shape              Param #   \n",
            "=================================================================\n",
            " input_30 (InputLayer)       [(None, 32, 32, 3)]       0         \n",
            "                                                                 \n",
            " tf.__operators__.getitem_2   (None, 32, 32, 3)        0         \n",
            " (SlicingOpLambda)                                               \n",
            "                                                                 \n",
            " tf.nn.bias_add_2 (TFOpLambd  (None, 32, 32, 3)        0         \n",
            " a)                                                              \n",
            "                                                                 \n",
            " resnet50 (Functional)       (None, 2048)              23587712  \n",
            "                                                                 \n",
            " dense_13 (Dense)            (None, 10)                20490     \n",
            "                                                                 \n",
            "=================================================================\n",
            "Total params: 23,608,202\n",
            "Trainable params: 23,555,082\n",
            "Non-trainable params: 53,120\n",
            "_________________________________________________________________\n"
          ]
        }
      ]
    },
    {
      "cell_type": "code",
      "source": [
        "lr = 1e-4\n",
        "resnet50_scratch.compile(optimizer=tf.keras.optimizers.Adam(learning_rate=lr),\n",
        "                      loss=tf.keras.losses.SparseCategoricalCrossentropy(from_logits=True),\n",
        "                      metrics=['accuracy'])"
      ],
      "metadata": {
        "id": "Syhqaq1x1T3V"
      },
      "execution_count": 63,
      "outputs": []
    },
    {
      "cell_type": "code",
      "source": [
        "history = resnet50_scratch.fit(x_train, y_train, epochs=50, batch_size=256, validation_data=(x_test, y_test))"
      ],
      "metadata": {
        "colab": {
          "base_uri": "https://localhost:8080/"
        },
        "id": "SVwuMea11h6t",
        "outputId": "88c17ca2-8892-4f7b-8197-4e11b4522f98"
      },
      "execution_count": 64,
      "outputs": [
        {
          "output_type": "stream",
          "name": "stdout",
          "text": [
            "Epoch 1/50\n",
            "196/196 [==============================] - 83s 110ms/step - loss: 2.3215 - accuracy: 0.1395 - val_loss: 2.2689 - val_accuracy: 0.1574\n",
            "Epoch 2/50\n",
            "196/196 [==============================] - 19s 98ms/step - loss: 2.2564 - accuracy: 0.1731 - val_loss: 2.2251 - val_accuracy: 0.1986\n",
            "Epoch 3/50\n",
            "196/196 [==============================] - 19s 97ms/step - loss: 2.1910 - accuracy: 0.2199 - val_loss: 2.1711 - val_accuracy: 0.2362\n",
            "Epoch 4/50\n",
            "196/196 [==============================] - 19s 97ms/step - loss: 2.0739 - accuracy: 0.2750 - val_loss: 2.0463 - val_accuracy: 0.2870\n",
            "Epoch 5/50\n",
            "196/196 [==============================] - 19s 97ms/step - loss: 1.9482 - accuracy: 0.3262 - val_loss: 1.9746 - val_accuracy: 0.3155\n",
            "Epoch 6/50\n",
            "196/196 [==============================] - 19s 98ms/step - loss: 1.8050 - accuracy: 0.3693 - val_loss: 1.8922 - val_accuracy: 0.3313\n",
            "Epoch 7/50\n",
            "196/196 [==============================] - 19s 98ms/step - loss: 1.6717 - accuracy: 0.4108 - val_loss: 1.8355 - val_accuracy: 0.3528\n",
            "Epoch 8/50\n",
            "196/196 [==============================] - 19s 97ms/step - loss: 1.5473 - accuracy: 0.4571 - val_loss: 1.7770 - val_accuracy: 0.3960\n",
            "Epoch 9/50\n",
            "196/196 [==============================] - 19s 98ms/step - loss: 1.4198 - accuracy: 0.5200 - val_loss: 1.7749 - val_accuracy: 0.4074\n",
            "Epoch 10/50\n",
            "196/196 [==============================] - 19s 98ms/step - loss: 1.2998 - accuracy: 0.5556 - val_loss: 1.7880 - val_accuracy: 0.4119\n",
            "Epoch 11/50\n",
            "196/196 [==============================] - 19s 98ms/step - loss: 1.1714 - accuracy: 0.6096 - val_loss: 1.7826 - val_accuracy: 0.4438\n",
            "Epoch 12/50\n",
            "196/196 [==============================] - 19s 98ms/step - loss: 1.0481 - accuracy: 0.6652 - val_loss: 1.8011 - val_accuracy: 0.4468\n",
            "Epoch 13/50\n",
            "196/196 [==============================] - 19s 97ms/step - loss: 0.9546 - accuracy: 0.6960 - val_loss: 1.8756 - val_accuracy: 0.4477\n",
            "Epoch 14/50\n",
            "196/196 [==============================] - 19s 98ms/step - loss: 0.8767 - accuracy: 0.7204 - val_loss: 1.9077 - val_accuracy: 0.4439\n",
            "Epoch 15/50\n",
            "196/196 [==============================] - 19s 98ms/step - loss: 0.8065 - accuracy: 0.7418 - val_loss: 1.9078 - val_accuracy: 0.4595\n",
            "Epoch 16/50\n",
            "196/196 [==============================] - 19s 97ms/step - loss: 0.7464 - accuracy: 0.7595 - val_loss: 2.0398 - val_accuracy: 0.4578\n",
            "Epoch 17/50\n",
            "196/196 [==============================] - 19s 97ms/step - loss: 0.6965 - accuracy: 0.7711 - val_loss: 2.0857 - val_accuracy: 0.4557\n",
            "Epoch 18/50\n",
            "196/196 [==============================] - 19s 97ms/step - loss: 0.6516 - accuracy: 0.7831 - val_loss: 2.1003 - val_accuracy: 0.4524\n",
            "Epoch 19/50\n",
            "196/196 [==============================] - 19s 97ms/step - loss: 0.6048 - accuracy: 0.7950 - val_loss: 2.1540 - val_accuracy: 0.4613\n",
            "Epoch 20/50\n",
            "196/196 [==============================] - 19s 99ms/step - loss: 0.5752 - accuracy: 0.8009 - val_loss: 2.1731 - val_accuracy: 0.4601\n",
            "Epoch 21/50\n",
            "196/196 [==============================] - 19s 97ms/step - loss: 0.5577 - accuracy: 0.8063 - val_loss: 2.1820 - val_accuracy: 0.4637\n",
            "Epoch 22/50\n",
            "196/196 [==============================] - 19s 97ms/step - loss: 0.5332 - accuracy: 0.8105 - val_loss: 2.2174 - val_accuracy: 0.4550\n",
            "Epoch 23/50\n",
            "196/196 [==============================] - 19s 97ms/step - loss: 0.5304 - accuracy: 0.8101 - val_loss: 2.2401 - val_accuracy: 0.4675\n",
            "Epoch 24/50\n",
            "196/196 [==============================] - 19s 97ms/step - loss: 0.4917 - accuracy: 0.8218 - val_loss: 2.3449 - val_accuracy: 0.4614\n",
            "Epoch 25/50\n",
            "196/196 [==============================] - 19s 97ms/step - loss: 0.4881 - accuracy: 0.8231 - val_loss: 2.3796 - val_accuracy: 0.4637\n",
            "Epoch 26/50\n",
            "196/196 [==============================] - 19s 97ms/step - loss: 0.4751 - accuracy: 0.8268 - val_loss: 2.4125 - val_accuracy: 0.4687\n",
            "Epoch 27/50\n",
            "196/196 [==============================] - 19s 97ms/step - loss: 0.4736 - accuracy: 0.8269 - val_loss: 2.4454 - val_accuracy: 0.4671\n",
            "Epoch 28/50\n",
            "196/196 [==============================] - 19s 97ms/step - loss: 0.4430 - accuracy: 0.8358 - val_loss: 2.4483 - val_accuracy: 0.4580\n",
            "Epoch 29/50\n",
            "196/196 [==============================] - 19s 98ms/step - loss: 0.4542 - accuracy: 0.8319 - val_loss: 2.3825 - val_accuracy: 0.4725\n",
            "Epoch 30/50\n",
            "196/196 [==============================] - 19s 97ms/step - loss: 0.4309 - accuracy: 0.8389 - val_loss: 2.4432 - val_accuracy: 0.4755\n",
            "Epoch 31/50\n",
            "196/196 [==============================] - 19s 97ms/step - loss: 0.4407 - accuracy: 0.8360 - val_loss: 2.4560 - val_accuracy: 0.4772\n",
            "Epoch 32/50\n",
            "196/196 [==============================] - 19s 98ms/step - loss: 0.4388 - accuracy: 0.8353 - val_loss: 2.4815 - val_accuracy: 0.4789\n",
            "Epoch 33/50\n",
            "196/196 [==============================] - 19s 98ms/step - loss: 0.4232 - accuracy: 0.8403 - val_loss: 2.5287 - val_accuracy: 0.4731\n",
            "Epoch 34/50\n",
            "196/196 [==============================] - 19s 98ms/step - loss: 0.4237 - accuracy: 0.8397 - val_loss: 2.4974 - val_accuracy: 0.4755\n",
            "Epoch 35/50\n",
            "196/196 [==============================] - 19s 98ms/step - loss: 0.4119 - accuracy: 0.8432 - val_loss: 2.5292 - val_accuracy: 0.4700\n",
            "Epoch 36/50\n",
            "196/196 [==============================] - 19s 98ms/step - loss: 0.4124 - accuracy: 0.8436 - val_loss: 2.5477 - val_accuracy: 0.4786\n",
            "Epoch 37/50\n",
            "196/196 [==============================] - 19s 97ms/step - loss: 0.3955 - accuracy: 0.8490 - val_loss: 2.5213 - val_accuracy: 0.4736\n",
            "Epoch 38/50\n",
            "196/196 [==============================] - 19s 98ms/step - loss: 0.4026 - accuracy: 0.8473 - val_loss: 2.5865 - val_accuracy: 0.4774\n",
            "Epoch 39/50\n",
            "196/196 [==============================] - 19s 98ms/step - loss: 0.4087 - accuracy: 0.8440 - val_loss: 2.4662 - val_accuracy: 0.4842\n",
            "Epoch 40/50\n",
            "196/196 [==============================] - 19s 97ms/step - loss: 0.3856 - accuracy: 0.8509 - val_loss: 2.5440 - val_accuracy: 0.4868\n",
            "Epoch 41/50\n",
            "196/196 [==============================] - 19s 98ms/step - loss: 0.3816 - accuracy: 0.8528 - val_loss: 2.5831 - val_accuracy: 0.4825\n",
            "Epoch 42/50\n",
            "196/196 [==============================] - 19s 97ms/step - loss: 0.3828 - accuracy: 0.8513 - val_loss: 2.4803 - val_accuracy: 0.4901\n",
            "Epoch 43/50\n",
            "196/196 [==============================] - 19s 97ms/step - loss: 0.3878 - accuracy: 0.8510 - val_loss: 2.5596 - val_accuracy: 0.4839\n",
            "Epoch 44/50\n",
            "196/196 [==============================] - 19s 98ms/step - loss: 0.3779 - accuracy: 0.8531 - val_loss: 2.5172 - val_accuracy: 0.4839\n",
            "Epoch 45/50\n",
            "196/196 [==============================] - 19s 98ms/step - loss: 0.3793 - accuracy: 0.8534 - val_loss: 2.5933 - val_accuracy: 0.4946\n",
            "Epoch 46/50\n",
            "196/196 [==============================] - 19s 97ms/step - loss: 0.3870 - accuracy: 0.8511 - val_loss: 2.5819 - val_accuracy: 0.4959\n",
            "Epoch 47/50\n",
            "196/196 [==============================] - 19s 98ms/step - loss: 0.3667 - accuracy: 0.8563 - val_loss: 2.5720 - val_accuracy: 0.4950\n",
            "Epoch 48/50\n",
            "196/196 [==============================] - 19s 97ms/step - loss: 0.3601 - accuracy: 0.8589 - val_loss: 2.5490 - val_accuracy: 0.4861\n",
            "Epoch 49/50\n",
            "196/196 [==============================] - 19s 98ms/step - loss: 0.3624 - accuracy: 0.8575 - val_loss: 2.6217 - val_accuracy: 0.4996\n",
            "Epoch 50/50\n",
            "196/196 [==============================] - 19s 97ms/step - loss: 0.3651 - accuracy: 0.8568 - val_loss: 2.5272 - val_accuracy: 0.4902\n"
          ]
        }
      ]
    },
    {
      "cell_type": "code",
      "source": [
        "res = resnet50_scratch.evaluate(x_test, y_test)"
      ],
      "metadata": {
        "colab": {
          "base_uri": "https://localhost:8080/"
        },
        "id": "j7gVs0PafYLv",
        "outputId": "bccdc3b5-cfa2-4a49-c137-e93381b3f010"
      },
      "execution_count": 67,
      "outputs": [
        {
          "output_type": "stream",
          "name": "stdout",
          "text": [
            "313/313 [==============================] - 6s 18ms/step - loss: 2.7490 - accuracy: 0.4683\n"
          ]
        }
      ]
    },
    {
      "cell_type": "markdown",
      "source": [
        "Knowledge distillation:"
      ],
      "metadata": {
        "id": "ufpCB1K2fcro"
      }
    },
    {
      "cell_type": "code",
      "source": [
        "inputs = tf.keras.Input(shape=IMG_SHAPE)\n",
        "inputs = tf.cast(inputs, tf.float32)\n",
        "x = pre_input_resnet18(inputs)\n",
        "x = resnet18_base(x)\n",
        "x = tf.keras.layers.GlobalAveragePooling2D()(x)\n",
        "outputs = tf.keras.layers.Dense(10, activation='relu')(x)\n",
        "student_model_with_resnet50_scratch = tf.keras.Model(inputs, outputs)"
      ],
      "metadata": {
        "id": "Zfuz4VA11l1F"
      },
      "execution_count": 65,
      "outputs": []
    },
    {
      "cell_type": "code",
      "source": [
        "distiller = Distiller(student=student_model_with_resnet50_scratch, teacher=resnet50_scratch)\n",
        "distiller.compile(\n",
        "    optimizer=tf.keras.optimizers.Adam(learning_rate=1e-4),\n",
        "    metrics=['accuracy'],\n",
        "    student_loss_fn=tf.keras.losses.SparseCategoricalCrossentropy(from_logits=True),\n",
        "    distillation_loss_fn=tf.keras.losses.CategoricalCrossentropy(from_logits=True),\n",
        "    alpha=0.1,\n",
        "    temperature=1\n",
        ")\n",
        "\n",
        "history = distiller.fit(x_train, y_train, epochs=20, batch_size=64, validation_data=(x_test, y_test))"
      ],
      "metadata": {
        "colab": {
          "base_uri": "https://localhost:8080/"
        },
        "id": "0S3dDO2q3Qpc",
        "outputId": "251f7b1c-2100-4a85-db4e-2fe1bbbf5175"
      },
      "execution_count": 66,
      "outputs": [
        {
          "output_type": "stream",
          "name": "stdout",
          "text": [
            "Epoch 1/20\n",
            "782/782 [==============================] - 34s 38ms/step - accuracy: 0.7985 - student_loss: 0.5353 - distillation_loss: 1.7400 - val_accuracy: 0.6012 - val_student_loss: 1.0074\n",
            "Epoch 2/20\n",
            "782/782 [==============================] - 30s 38ms/step - accuracy: 0.8871 - student_loss: 0.2868 - distillation_loss: 1.7175 - val_accuracy: 0.6061 - val_student_loss: 2.3305\n",
            "Epoch 3/20\n",
            "782/782 [==============================] - 29s 37ms/step - accuracy: 0.8854 - student_loss: 0.2914 - distillation_loss: 1.7183 - val_accuracy: 0.5987 - val_student_loss: 1.9723\n",
            "Epoch 4/20\n",
            "782/782 [==============================] - 30s 38ms/step - accuracy: 0.8882 - student_loss: 0.2812 - distillation_loss: 1.7155 - val_accuracy: 0.5988 - val_student_loss: 1.7092\n",
            "Epoch 5/20\n",
            "782/782 [==============================] - 30s 38ms/step - accuracy: 0.8879 - student_loss: 0.2812 - distillation_loss: 1.7159 - val_accuracy: 0.5987 - val_student_loss: 1.8455\n",
            "Epoch 6/20\n",
            "782/782 [==============================] - 29s 38ms/step - accuracy: 0.8874 - student_loss: 0.2844 - distillation_loss: 1.7148 - val_accuracy: 0.6073 - val_student_loss: 2.0020\n",
            "Epoch 7/20\n",
            "782/782 [==============================] - 29s 37ms/step - accuracy: 0.8883 - student_loss: 0.2812 - distillation_loss: 1.7146 - val_accuracy: 0.6029 - val_student_loss: 2.0317\n",
            "Epoch 8/20\n",
            "782/782 [==============================] - 29s 38ms/step - accuracy: 0.8890 - student_loss: 0.2779 - distillation_loss: 1.7136 - val_accuracy: 0.6061 - val_student_loss: 1.1175\n",
            "Epoch 9/20\n",
            "782/782 [==============================] - 29s 38ms/step - accuracy: 0.8887 - student_loss: 0.2820 - distillation_loss: 1.7148 - val_accuracy: 0.6061 - val_student_loss: 1.8282\n",
            "Epoch 10/20\n",
            "782/782 [==============================] - 30s 38ms/step - accuracy: 0.8904 - student_loss: 0.2750 - distillation_loss: 1.7122 - val_accuracy: 0.6106 - val_student_loss: 1.7623\n",
            "Epoch 11/20\n",
            "782/782 [==============================] - 30s 39ms/step - accuracy: 0.8884 - student_loss: 0.2847 - distillation_loss: 1.7127 - val_accuracy: 0.6074 - val_student_loss: 1.5162\n",
            "Epoch 12/20\n",
            "782/782 [==============================] - 31s 39ms/step - accuracy: 0.8893 - student_loss: 0.2836 - distillation_loss: 1.7126 - val_accuracy: 0.6018 - val_student_loss: 1.6533\n",
            "Epoch 13/20\n",
            "782/782 [==============================] - 34s 43ms/step - accuracy: 0.8897 - student_loss: 0.2839 - distillation_loss: 1.7136 - val_accuracy: 0.6008 - val_student_loss: 2.0342\n",
            "Epoch 14/20\n",
            "782/782 [==============================] - 33s 43ms/step - accuracy: 0.8896 - student_loss: 0.2853 - distillation_loss: 1.7130 - val_accuracy: 0.6043 - val_student_loss: 2.8462\n",
            "Epoch 15/20\n",
            "782/782 [==============================] - 32s 41ms/step - accuracy: 0.8884 - student_loss: 0.2848 - distillation_loss: 1.7134 - val_accuracy: 0.6025 - val_student_loss: 1.8980\n",
            "Epoch 16/20\n",
            "782/782 [==============================] - 33s 42ms/step - accuracy: 0.8901 - student_loss: 0.2806 - distillation_loss: 1.7125 - val_accuracy: 0.6149 - val_student_loss: 1.4855\n",
            "Epoch 17/20\n",
            "782/782 [==============================] - 34s 43ms/step - accuracy: 0.8888 - student_loss: 0.2866 - distillation_loss: 1.7135 - val_accuracy: 0.6104 - val_student_loss: 1.3748\n",
            "Epoch 18/20\n",
            "782/782 [==============================] - 31s 40ms/step - accuracy: 0.8886 - student_loss: 0.2873 - distillation_loss: 1.7124 - val_accuracy: 0.6046 - val_student_loss: 1.8275\n",
            "Epoch 19/20\n",
            "782/782 [==============================] - 31s 40ms/step - accuracy: 0.8906 - student_loss: 0.2776 - distillation_loss: 1.7122 - val_accuracy: 0.6042 - val_student_loss: 1.6140\n",
            "Epoch 20/20\n",
            "782/782 [==============================] - 34s 44ms/step - accuracy: 0.8907 - student_loss: 0.2797 - distillation_loss: 1.7115 - val_accuracy: 0.6089 - val_student_loss: 1.8968\n"
          ]
        }
      ]
    },
    {
      "cell_type": "code",
      "source": [
        "res = distiller.evaluate(x_test, y_test)"
      ],
      "metadata": {
        "id": "FWEpTj4g56D3",
        "colab": {
          "base_uri": "https://localhost:8080/"
        },
        "outputId": "9df5f7f5-5cc8-4173-951f-c3addd187560"
      },
      "execution_count": 68,
      "outputs": [
        {
          "output_type": "stream",
          "name": "stdout",
          "text": [
            "313/313 [==============================] - 3s 8ms/step - accuracy: 0.6089 - student_loss: 2.3656\n"
          ]
        }
      ]
    },
    {
      "cell_type": "markdown",
      "source": [
        "As you can see, the teacher accuracy is lower than teacher model in part A which was linear tuned. The reason is that to train such big network, more epochs must be passed and regularization techniques must be used. But, to compare results fairly, I used same hyperparameters which results in lower accuracy.\n",
        "\n",
        "When this teacher is used, it's obvious that we're going to have lower accuracy compared to part C. In this scenario, student's accuracy is $60.89\\%$ but in part C, student's accuracy was $63.2\\%$. Although there is difference in accuracy, but due to student model itself, the difference is not that high. "
      ],
      "metadata": {
        "id": "BesN2x4Jfjoa"
      }
    }
  ]
}