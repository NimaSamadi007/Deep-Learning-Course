{
 "cells": [
  {
   "cell_type": "markdown",
   "id": "0c5dd05b-893b-4543-98fd-5bfce109ade4",
   "metadata": {},
   "source": [
    "# Problem 1, Implementing a Neural Net from Scratch"
   ]
  },
  {
   "cell_type": "code",
   "execution_count": 1,
   "id": "0d954502-c7ec-41e3-8529-d7adcc876e58",
   "metadata": {},
   "outputs": [],
   "source": [
    "import torch\n",
    "from torch.utils.data import Dataset\n",
    "from torchvision import datasets\n",
    "from torchvision.transforms import ToTensor\n",
    "from torch.utils.data import DataLoader\n",
    "import matplotlib.pyplot as plt\n",
    "import numpy as np\n",
    "\n",
    "%matplotlib inline"
   ]
  },
  {
   "cell_type": "markdown",
   "id": "c243cc01-ecb9-4ba4-a49b-3c200cabe060",
   "metadata": {},
   "source": [
    "## A) Adding dataset"
   ]
  },
  {
   "cell_type": "code",
   "execution_count": 2,
   "id": "1797de0d-4405-4fb3-b8b6-7225060616b2",
   "metadata": {},
   "outputs": [],
   "source": [
    "training_data = datasets.FashionMNIST(root=\"data\", \n",
    "                                      train=True, \n",
    "                                      download=True, \n",
    "                                      transform=ToTensor())\n",
    "test_data = datasets.FashionMNIST(root=\"data\",\n",
    "                                  train=False,\n",
    "                                  download=True,\n",
    "                                  transform=ToTensor())\n",
    "labels_dict = {0:\"T-shirt\",\n",
    "               1:\"Trouser\",\n",
    "               2:\"Pullover\",\n",
    "               3:\"Dress\",\n",
    "               4:\"Coat\",\n",
    "               5:\"Sandal\",\n",
    "               6:\"Shirt\",\n",
    "               7:\"Sneaker\",\n",
    "               8:\"Bag\",\n",
    "               9:\"Ankle boot\"}"
   ]
  },
  {
   "cell_type": "code",
   "execution_count": 3,
   "id": "d50b471a-0190-4cbc-aedc-b7fa9cd9cc6b",
   "metadata": {},
   "outputs": [
    {
     "data": {
      "image/png": "[encoded data removed]",
      "text/plain": [
       "<Figure size 720x720 with 10 Axes>"
      ]
     },
     "metadata": {},
     "output_type": "display_data"
    }
   ],
   "source": [
    "# get data sample\n",
    "selected_imgs = torch.zeros((10, 1, 28, 28))\n",
    "dl = DataLoader(training_data, batch_size=1000, shuffle=True)\n",
    "data_subset = next(iter(dl))\n",
    "for i in range(10):\n",
    "    while(1):\n",
    "        imgs_labels = data_subset[1]\n",
    "        all_label_i = np.where(imgs_labels == i)[0]\n",
    "        if len(all_label_i): \n",
    "            idx = np.random.choice(all_label_i, 1)\n",
    "            selected_imgs[i, ...] = data_subset[0][idx].clone()\n",
    "            break\n",
    "        else:\n",
    "            data_subset = next(iter(dl))\n",
    "\n",
    "# plot sample data\n",
    "fig, ax = plt.subplots(4, 3, figsize=(10,10))\n",
    "fig.suptitle(\"Plotting sample data\", fontsize=18)\n",
    "fig.delaxes(ax[3, 0])\n",
    "fig.delaxes(ax[3, 2])\n",
    "for i in range(10):\n",
    "    ax[i//3,i%3].set_xticks([])\n",
    "    ax[i//3,i%3].set_yticks([])\n",
    "    ax[i//3,i%3].imshow(selected_imgs[i, 0], cmap='gray')\n",
    "    ax[i//3,i%3].set_title(labels_dict[i])\n",
    "ax[3,1].set_xticks([])\n",
    "ax[3,1].set_yticks([])\n",
    "ax[3,1].imshow(selected_imgs[9, 0], cmap='gray')\n",
    "ax[3,1].set_title(labels_dict[i])\n",
    "plt.show()"
   ]
  },
  {
   "cell_type": "markdown",
   "id": "45a75f88-eea5-404f-bc77-d87da455e535",
   "metadata": {},
   "source": [
    "## B) Implementing network"
   ]
  },
  {
   "cell_type": "code",
   "execution_count": 81,
   "id": "f0c50159-c892-4354-9bbb-73ba31178794",
   "metadata": {},
   "outputs": [],
   "source": [
    "# Layers implementation\n",
    "class Linear:\n",
    "    def __init__(self, input_neurons, output_neurons):\n",
    "        self.n_i = input_neurons\n",
    "        self.n_o = output_neurons\n",
    "        # weights and bias intialization\n",
    "        self.W = torch.rand((self.n_i, self.n_o))*0.001\n",
    "        self.b = torch.rand((1, self.n_o))*0.001\n",
    "    def __call__(self, X):\n",
    "        return X @ self.W + self.b\n",
    "\n",
    "class ReLU:\n",
    "    def __call__(self, X):\n",
    "        X[X <= 0] = 0\n",
    "        return X\n",
    "\n",
    "class Softmax():\n",
    "    def __call__(self, X):\n",
    "        exp_X = torch.exp(X)\n",
    "        sum_exp_X = torch.sum(exp_X, axis=1, keepdim=True)\n",
    "        return exp_X / sum_exp_X"
   ]
  },
  {
   "cell_type": "code",
   "execution_count": 84,
   "id": "b79cd528-d55f-4fb2-8c9b-a3c42712f5fe",
   "metadata": {},
   "outputs": [],
   "source": [
    "def Model(xb):\n",
    "    l1 = Linear(28*28, 512)\n",
    "    r1 = ReLU()\n",
    "    l2 = Linear(512, 512)\n",
    "    r2 = ReLU()\n",
    "    l3 = Linear(512, 10)\n",
    "    s = Softmax()\n",
    "    \n",
    "    # forward calculation\n",
    "    yb = r1(l1(xb))\n",
    "    yb = r2(l2(yb))\n",
    "    yb = l3(yb)\n",
    "    return yb"
   ]
  },
  {
   "cell_type": "code",
   "execution_count": null,
   "id": "f2c9483c-2cd0-467a-a92e-2eae6c34aa82",
   "metadata": {},
   "outputs": [],
   "source": []
  }
 ],
 "metadata": {
  "kernelspec": {
   "display_name": "Python 3 (ipykernel)",
   "language": "python",
   "name": "python3"
  },
  "language_info": {
   "codemirror_mode": {
    "name": "ipython",
    "version": 3
   },
   "file_extension": ".py",
   "mimetype": "text/x-python",
   "name": "python",
   "nbconvert_exporter": "python",
   "pygments_lexer": "ipython3",
   "version": "3.10.6"
  }
 },
 "nbformat": 4,
 "nbformat_minor": 5
}
