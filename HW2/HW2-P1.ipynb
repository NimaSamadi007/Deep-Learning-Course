{
 "cells": [
  {
   "cell_type": "markdown",
   "id": "0c5dd05b-893b-4543-98fd-5bfce109ade4",
   "metadata": {},
   "source": [
    "# Problem 1, Implementing a Neural Net from Scratch"
   ]
  },
  {
   "cell_type": "code",
   "execution_count": 1,
   "id": "0d954502-c7ec-41e3-8529-d7adcc876e58",
   "metadata": {},
   "outputs": [],
   "source": [
    "import torch\n",
    "from torch.utils.data import Dataset\n",
    "from torchvision import datasets\n",
    "from torchvision.transforms import ToTensor\n",
    "from torch.utils.data import DataLoader\n",
    "import matplotlib.pyplot as plt\n",
    "import numpy as np\n",
    "\n",
    "%matplotlib inline"
   ]
  },
  {
   "cell_type": "markdown",
   "id": "c243cc01-ecb9-4ba4-a49b-3c200cabe060",
   "metadata": {},
   "source": [
    "## A) Adding dataset"
   ]
  },
  {
   "cell_type": "code",
   "execution_count": 2,
   "id": "1797de0d-4405-4fb3-b8b6-7225060616b2",
   "metadata": {},
   "outputs": [],
   "source": [
    "training_data = datasets.FashionMNIST(root=\"data\", \n",
    "                                      train=True, \n",
    "                                      download=True, \n",
    "                                      transform=ToTensor())\n",
    "test_data = datasets.FashionMNIST(root=\"data\",\n",
    "                                  train=False,\n",
    "                                  download=True,\n",
    "                                  transform=ToTensor())\n",
    "labels_dict = {0:\"T-shirt\",\n",
    "               1:\"Trouser\",\n",
    "               2:\"Pullover\",\n",
    "               3:\"Dress\",\n",
    "               4:\"Coat\",\n",
    "               5:\"Sandal\",\n",
    "               6:\"Shirt\",\n",
    "               7:\"Sneaker\",\n",
    "               8:\"Bag\",\n",
    "               9:\"Ankle boot\"}"
   ]
  },
  {
   "cell_type": "code",
   "execution_count": 3,
   "id": "d50b471a-0190-4cbc-aedc-b7fa9cd9cc6b",
   "metadata": {},
   "outputs": [
    {
     "data": {
      "image/png": "[encoded data removed]",
      "text/plain": [
       "<Figure size 720x720 with 10 Axes>"
      ]
     },
     "metadata": {},
     "output_type": "display_data"
    }
   ],
   "source": [
    "# get data sample\n",
    "selected_imgs = torch.zeros((10, 1, 28, 28))\n",
    "dl = DataLoader(training_data, batch_size=1000, shuffle=True)\n",
    "data_subset = next(iter(dl))\n",
    "for i in range(10):\n",
    "    while(1):\n",
    "        imgs_labels = data_subset[1]\n",
    "        all_label_i = np.where(imgs_labels == i)[0]\n",
    "        if len(all_label_i): \n",
    "            idx = np.random.choice(all_label_i, 1)\n",
    "            selected_imgs[i, ...] = data_subset[0][idx].clone()\n",
    "            break\n",
    "        else:\n",
    "            data_subset = next(iter(dl))\n",
    "\n",
    "# plot sample data\n",
    "fig, ax = plt.subplots(4, 3, figsize=(10,10))\n",
    "fig.suptitle(\"Plotting sample data\", fontsize=18)\n",
    "fig.delaxes(ax[3, 0])\n",
    "fig.delaxes(ax[3, 2])\n",
    "for i in range(10):\n",
    "    ax[i//3,i%3].set_xticks([])\n",
    "    ax[i//3,i%3].set_yticks([])\n",
    "    ax[i//3,i%3].imshow(selected_imgs[i, 0], cmap='gray')\n",
    "    ax[i//3,i%3].set_title(labels_dict[i])\n",
    "ax[3,1].set_xticks([])\n",
    "ax[3,1].set_yticks([])\n",
    "ax[3,1].imshow(selected_imgs[9, 0], cmap='gray')\n",
    "ax[3,1].set_title(labels_dict[i])\n",
    "plt.show()"
   ]
  },
  {
   "cell_type": "markdown",
   "id": "45a75f88-eea5-404f-bc77-d87da455e535",
   "metadata": {},
   "source": [
    "## B) Implementing network"
   ]
  },
  {
   "cell_type": "code",
   "execution_count": 268,
   "id": "d46ab9da-853a-45ef-b880-45f8ee62f198",
   "metadata": {},
   "outputs": [
    {
     "name": "stdout",
     "output_type": "stream",
     "text": [
      "tensor([[ 0.1854, -0.0428, -0.4806],\n",
      "        [-0.3088, -0.1572,  0.2935]])\n"
     ]
    }
   ],
   "source": [
    "q = torch.randn((2, 3)) * np.sqrt(2/10)\n",
    "print(q)"
   ]
  },
  {
   "cell_type": "code",
   "execution_count": 269,
   "id": "f0c50159-c892-4354-9bbb-73ba31178794",
   "metadata": {},
   "outputs": [],
   "source": [
    "# Layers implementation\n",
    "class Linear:\n",
    "    def __init__(self, input_neurons, output_neurons):\n",
    "        self.n_i = input_neurons\n",
    "        self.n_o = output_neurons\n",
    "        # weights and bias intialization (He initialization)\n",
    "        self.W = torch.randn((self.n_i, self.n_o))*np.sqrt(2/self.n_i)\n",
    "        self.W.requires_grad_(True)\n",
    "        self.b = torch.zeros((1, self.n_o), requires_grad=True)\n",
    "    def __call__(self, X):\n",
    "        return X @ self.W + self.b\n",
    "\n",
    "class ReLU:\n",
    "    def __call__(self, X):\n",
    "        X[X <= 0] = 0\n",
    "        return X\n",
    "\n",
    "class Softmax():\n",
    "    def __call__(self, X):\n",
    "        exp_X = torch.exp(X)\n",
    "        sum_exp_X = torch.sum(exp_X, axis=1, keepdim=True)\n",
    "        return exp_X / sum_exp_X\n",
    "\n",
    "class Flatten():\n",
    "    def __call__(self, X):\n",
    "        return X.reshape(X.shape[0], -1)"
   ]
  },
  {
   "cell_type": "code",
   "execution_count": 270,
   "id": "4391e5c4-f2b7-4bef-bc9e-0b5b865b3949",
   "metadata": {},
   "outputs": [],
   "source": [
    "class Model:\n",
    "    def __init__(self, batch_size, learning_reate):\n",
    "        self.lr = learning_rate\n",
    "        self.f = Flatten()\n",
    "        self.l1 = Linear(28*28, 512)\n",
    "        self.r1 = ReLU()\n",
    "        # self.l2 = Linear(512, 512)\n",
    "        # self.r2 = ReLU()\n",
    "        self.l3 = Linear(512, 10)\n",
    "        self.s = Softmax()\n",
    "    def __call__(self, xb):\n",
    "        yb = self.r1(self.l1(self.f(xb)))\n",
    "        # yb = self.r2(self.l2(yb))\n",
    "        yb = self.s(self.l3(yb))\n",
    "        return yb\n",
    "    def backward(self, loss):\n",
    "        loss.backward()\n",
    "        # print(self.l3.W[0:5, 0:5])\n",
    "        # print(self.l3.b[0:5, 0:5])\n",
    "        with torch.no_grad():\n",
    "            self.l1.W += (-self.lr * self.l1.W.grad.clone())\n",
    "            self.l1.b += (-self.lr * self.l1.b.grad.clone())\n",
    "            # self.l2.W += (-self.lr * self.l2.W.grad.clone())\n",
    "            # self.l2.b += (-self.lr * self.l2.b.grad.clone())\n",
    "            self.l3.W += (-self.lr * self.l3.W.grad.clone())\n",
    "            self.l3.b += (-self.lr * self.l3.b.grad.clone())\n",
    "        # zero out gradients and set them true:\n",
    "        self.l1.W.grad.zero_()\n",
    "        self.l1.b.grad.zero_()\n",
    "        # self.l2.W.grad.zero_()\n",
    "        # self.l2.b.grad.zero_()\n",
    "        self.l3.W.grad.zero_()\n",
    "        self.l3.b.grad.zero_()"
   ]
  },
  {
   "cell_type": "markdown",
   "id": "9bbdd86a-4352-4087-845b-d6502558e19b",
   "metadata": {},
   "source": [
    "## C) Model training"
   ]
  },
  {
   "cell_type": "code",
   "execution_count": 271,
   "id": "a510697a-5921-4875-9158-48da1e265f33",
   "metadata": {},
   "outputs": [],
   "source": [
    "def CrossEntropyLoss(pred, target):\n",
    "    loss = 0\n",
    "    for sample, label in enumerate(target):\n",
    "        loss += (-torch.log(pred[sample, label]))\n",
    "    loss /= len(target)\n",
    "    return loss"
   ]
  },
  {
   "cell_type": "code",
   "execution_count": 272,
   "id": "77ae5064-760b-48b7-afcf-5b259274e046",
   "metadata": {},
   "outputs": [
    {
     "name": "stdout",
     "output_type": "stream",
     "text": [
      "At epoch 0\n",
      "====================\n",
      "loss: 2.373948  [    0/60000]\n",
      "loss: 1.902637  [ 6400/60000]\n",
      "loss: 1.773077  [12800/60000]\n",
      "loss: 1.648828  [19200/60000]\n",
      "loss: 1.444443  [25600/60000]\n",
      "loss: 1.481526  [32000/60000]\n",
      "loss: 1.314581  [38400/60000]\n",
      "loss: 1.232324  [44800/60000]\n",
      "loss: 1.301935  [51200/60000]\n",
      "loss: 1.057224  [57600/60000]\n",
      "At epoch 1\n",
      "====================\n",
      "loss: 1.156577  [    0/60000]\n",
      "loss: 1.096489  [ 6400/60000]\n",
      "loss: 0.928351  [12800/60000]\n",
      "loss: 1.099867  [19200/60000]\n",
      "loss: 0.977788  [25600/60000]\n",
      "loss: 1.015385  [32000/60000]\n",
      "loss: 1.002263  [38400/60000]\n",
      "loss: 0.806742  [44800/60000]\n",
      "loss: 0.924161  [51200/60000]\n",
      "loss: 0.795905  [57600/60000]\n",
      "At epoch 2\n",
      "====================\n",
      "loss: 1.083409  [    0/60000]\n",
      "loss: 0.884983  [ 6400/60000]\n",
      "loss: 0.812409  [12800/60000]\n",
      "loss: 0.962126  [19200/60000]\n",
      "loss: 0.891164  [25600/60000]\n",
      "loss: 0.772751  [32000/60000]\n",
      "loss: 0.706937  [38400/60000]\n",
      "loss: 0.961357  [44800/60000]\n",
      "loss: 0.797855  [51200/60000]\n",
      "loss: 0.780685  [57600/60000]\n",
      "At epoch 3\n",
      "====================\n",
      "loss: 0.859945  [    0/60000]\n",
      "loss: 0.975745  [ 6400/60000]\n",
      "loss: 0.811419  [12800/60000]\n",
      "loss: 0.595115  [19200/60000]\n",
      "loss: 0.825422  [25600/60000]\n",
      "loss: 0.592159  [32000/60000]\n",
      "loss: 0.733407  [38400/60000]\n",
      "loss: 0.790821  [44800/60000]\n",
      "loss: 0.671233  [51200/60000]\n",
      "loss: 0.960431  [57600/60000]\n",
      "At epoch 4\n",
      "====================\n",
      "loss: 0.879252  [    0/60000]\n",
      "loss: 0.801795  [ 6400/60000]\n",
      "loss: 0.669300  [12800/60000]\n",
      "loss: 0.776830  [19200/60000]\n",
      "loss: 0.668531  [25600/60000]\n",
      "loss: 0.668148  [32000/60000]\n",
      "loss: 0.866319  [38400/60000]\n",
      "loss: 0.732305  [44800/60000]\n",
      "loss: 0.634931  [51200/60000]\n"
     ]
    },
    {
     "ename": "KeyboardInterrupt",
     "evalue": "",
     "output_type": "error",
     "traceback": [
      "\u001b[0;31m---------------------------------------------------------------------------\u001b[0m",
      "\u001b[0;31mKeyboardInterrupt\u001b[0m                         Traceback (most recent call last)",
      "Input \u001b[0;32mIn [272]\u001b[0m, in \u001b[0;36m<cell line: 8>\u001b[0;34m()\u001b[0m\n\u001b[1;32m     16\u001b[0m loss_train \u001b[38;5;241m=\u001b[39m CrossEntropyLoss(yb, train_labels)\n\u001b[1;32m     17\u001b[0m \u001b[38;5;66;03m# update parameters (SGD)\u001b[39;00m\n\u001b[0;32m---> 18\u001b[0m \u001b[43mmodel\u001b[49m\u001b[38;5;241;43m.\u001b[39;49m\u001b[43mbackward\u001b[49m\u001b[43m(\u001b[49m\u001b[43mloss_train\u001b[49m\u001b[43m)\u001b[49m\n\u001b[1;32m     20\u001b[0m \u001b[38;5;28;01mif\u001b[39;00m batch \u001b[38;5;241m%\u001b[39m \u001b[38;5;241m100\u001b[39m \u001b[38;5;241m==\u001b[39m \u001b[38;5;241m0\u001b[39m:\n\u001b[1;32m     21\u001b[0m     loss, current \u001b[38;5;241m=\u001b[39m loss_train\u001b[38;5;241m.\u001b[39mitem(), batch \u001b[38;5;241m*\u001b[39m \u001b[38;5;28mlen\u001b[39m(Xb)\n",
      "Input \u001b[0;32mIn [270]\u001b[0m, in \u001b[0;36mModel.backward\u001b[0;34m(self, loss)\u001b[0m\n\u001b[1;32m     16\u001b[0m \u001b[38;5;28;01mdef\u001b[39;00m \u001b[38;5;21mbackward\u001b[39m(\u001b[38;5;28mself\u001b[39m, loss):\n\u001b[0;32m---> 17\u001b[0m     \u001b[43mloss\u001b[49m\u001b[38;5;241;43m.\u001b[39;49m\u001b[43mbackward\u001b[49m\u001b[43m(\u001b[49m\u001b[43m)\u001b[49m\n\u001b[1;32m     18\u001b[0m     \u001b[38;5;66;03m# print(self.l3.W[0:5, 0:5])\u001b[39;00m\n\u001b[1;32m     19\u001b[0m     \u001b[38;5;66;03m# print(self.l3.b[0:5, 0:5])\u001b[39;00m\n\u001b[1;32m     20\u001b[0m     \u001b[38;5;28;01mwith\u001b[39;00m torch\u001b[38;5;241m.\u001b[39mno_grad():\n",
      "File \u001b[0;32m~/.virtualenvs/ai-python/lib/python3.10/site-packages/torch/_tensor.py:396\u001b[0m, in \u001b[0;36mTensor.backward\u001b[0;34m(self, gradient, retain_graph, create_graph, inputs)\u001b[0m\n\u001b[1;32m    387\u001b[0m \u001b[38;5;28;01mif\u001b[39;00m has_torch_function_unary(\u001b[38;5;28mself\u001b[39m):\n\u001b[1;32m    388\u001b[0m     \u001b[38;5;28;01mreturn\u001b[39;00m handle_torch_function(\n\u001b[1;32m    389\u001b[0m         Tensor\u001b[38;5;241m.\u001b[39mbackward,\n\u001b[1;32m    390\u001b[0m         (\u001b[38;5;28mself\u001b[39m,),\n\u001b[0;32m   (...)\u001b[0m\n\u001b[1;32m    394\u001b[0m         create_graph\u001b[38;5;241m=\u001b[39mcreate_graph,\n\u001b[1;32m    395\u001b[0m         inputs\u001b[38;5;241m=\u001b[39minputs)\n\u001b[0;32m--> 396\u001b[0m \u001b[43mtorch\u001b[49m\u001b[38;5;241;43m.\u001b[39;49m\u001b[43mautograd\u001b[49m\u001b[38;5;241;43m.\u001b[39;49m\u001b[43mbackward\u001b[49m\u001b[43m(\u001b[49m\u001b[38;5;28;43mself\u001b[39;49m\u001b[43m,\u001b[49m\u001b[43m \u001b[49m\u001b[43mgradient\u001b[49m\u001b[43m,\u001b[49m\u001b[43m \u001b[49m\u001b[43mretain_graph\u001b[49m\u001b[43m,\u001b[49m\u001b[43m \u001b[49m\u001b[43mcreate_graph\u001b[49m\u001b[43m,\u001b[49m\u001b[43m \u001b[49m\u001b[43minputs\u001b[49m\u001b[38;5;241;43m=\u001b[39;49m\u001b[43minputs\u001b[49m\u001b[43m)\u001b[49m\n",
      "File \u001b[0;32m~/.virtualenvs/ai-python/lib/python3.10/site-packages/torch/autograd/__init__.py:173\u001b[0m, in \u001b[0;36mbackward\u001b[0;34m(tensors, grad_tensors, retain_graph, create_graph, grad_variables, inputs)\u001b[0m\n\u001b[1;32m    168\u001b[0m     retain_graph \u001b[38;5;241m=\u001b[39m create_graph\n\u001b[1;32m    170\u001b[0m \u001b[38;5;66;03m# The reason we repeat same the comment below is that\u001b[39;00m\n\u001b[1;32m    171\u001b[0m \u001b[38;5;66;03m# some Python versions print out the first line of a multi-line function\u001b[39;00m\n\u001b[1;32m    172\u001b[0m \u001b[38;5;66;03m# calls in the traceback and some print out the last line\u001b[39;00m\n\u001b[0;32m--> 173\u001b[0m \u001b[43mVariable\u001b[49m\u001b[38;5;241;43m.\u001b[39;49m\u001b[43m_execution_engine\u001b[49m\u001b[38;5;241;43m.\u001b[39;49m\u001b[43mrun_backward\u001b[49m\u001b[43m(\u001b[49m\u001b[43m  \u001b[49m\u001b[38;5;66;43;03m# Calls into the C++ engine to run the backward pass\u001b[39;49;00m\n\u001b[1;32m    174\u001b[0m \u001b[43m    \u001b[49m\u001b[43mtensors\u001b[49m\u001b[43m,\u001b[49m\u001b[43m \u001b[49m\u001b[43mgrad_tensors_\u001b[49m\u001b[43m,\u001b[49m\u001b[43m \u001b[49m\u001b[43mretain_graph\u001b[49m\u001b[43m,\u001b[49m\u001b[43m \u001b[49m\u001b[43mcreate_graph\u001b[49m\u001b[43m,\u001b[49m\u001b[43m \u001b[49m\u001b[43minputs\u001b[49m\u001b[43m,\u001b[49m\n\u001b[1;32m    175\u001b[0m \u001b[43m    \u001b[49m\u001b[43mallow_unreachable\u001b[49m\u001b[38;5;241;43m=\u001b[39;49m\u001b[38;5;28;43;01mTrue\u001b[39;49;00m\u001b[43m,\u001b[49m\u001b[43m \u001b[49m\u001b[43maccumulate_grad\u001b[49m\u001b[38;5;241;43m=\u001b[39;49m\u001b[38;5;28;43;01mTrue\u001b[39;49;00m\u001b[43m)\u001b[49m\n",
      "\u001b[0;31mKeyboardInterrupt\u001b[0m: "
     ]
    }
   ],
   "source": [
    "learning_rate = 1e-3\n",
    "batch_size = 64\n",
    "epochs = 10\n",
    "\n",
    "model = Model(batch_size, learning_rate)\n",
    "train_dataloader = DataLoader(training_data, batch_size=batch_size, shuffle=True)\n",
    "\n",
    "for i in range(5):\n",
    "    print(f\"At epoch {i}\")\n",
    "    print(\"====================\")\n",
    "    size = len(train_dataloader.dataset)\n",
    "    for batch, (Xb, train_labels) in enumerate(train_dataloader):\n",
    "        # forward pass:\n",
    "        yb = model(Xb)\n",
    "        # calculate training loss\n",
    "        loss_train = CrossEntropyLoss(yb, train_labels)\n",
    "        # update parameters (SGD)\n",
    "        model.backward(loss_train)\n",
    "        \n",
    "        if batch % 100 == 0:\n",
    "            loss, current = loss_train.item(), batch * len(Xb)\n",
    "            print(f\"loss: {loss_train:>7f}  [{current:>5d}/{size:>5d}]\")"
   ]
  },
  {
   "cell_type": "code",
   "execution_count": null,
   "id": "1413ec23-74f3-43c7-a3c3-9138398fa38c",
   "metadata": {},
   "outputs": [],
   "source": []
  }
 ],
 "metadata": {
  "kernelspec": {
   "display_name": "Python 3 (ipykernel)",
   "language": "python",
   "name": "python3"
  },
  "language_info": {
   "codemirror_mode": {
    "name": "ipython",
    "version": 3
   },
   "file_extension": ".py",
   "mimetype": "text/x-python",
   "name": "python",
   "nbconvert_exporter": "python",
   "pygments_lexer": "ipython3",
   "version": "3.10.6"
  }
 },
 "nbformat": 4,
 "nbformat_minor": 5
}
